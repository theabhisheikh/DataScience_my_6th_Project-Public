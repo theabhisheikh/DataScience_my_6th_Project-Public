{
 "cells": [
  {
   "cell_type": "markdown",
   "metadata": {},
   "source": [
    "###  Assignment 2 Solution"
   ]
  },
  {
   "cell_type": "code",
   "execution_count": 10,
   "metadata": {},
   "outputs": [],
   "source": [
    "import mysql.connector\n",
    "import re\n",
    "\n",
    "# Step 1: Read mbox.txt file\n",
    "with open('mbox.txt', 'r') as file:\n",
    "    data = file.read()\n",
    "\n",
    "# Step 2: Extract Email Addresses\n",
    "email_addresses = re.findall(r'From \\S+@(\\S+)', data)\n",
    "\n",
    "# Step 3: Count Emails Per Organization\n",
    "counts = {}\n",
    "for domain in email_addresses:\n",
    "    counts[domain] = counts.get(domain, 0) + 1\n",
    "\n",
    "# Step 4: Update the MySQL Database\n",
    "mysql = mysql.connector.connect(host='localhost',\n",
    "                               user='root',\n",
    "                               passwd='1234', \n",
    "                               database='assignment2')\n",
    "\n",
    "cur = mysql.cursor()\n",
    "cur.execute('DROP TABLE IF EXISTS Counts')\n",
    "cur.execute('CREATE TABLE IF NOT EXISTS Counts (org VARCHAR(255), count INT)')\n",
    "\n",
    "for org, count in counts.items():\n",
    "    cur.execute('INSERT INTO Counts (org, count) VALUES (%s, %s)', (org, count))"
   ]
  },
  {
   "cell_type": "markdown",
   "metadata": {},
   "source": [
    "### The program on mbox.txt upload the resulting database file in CREATE TABLE Counts (org TEXT, count INTEGER)"
   ]
  },
  {
   "cell_type": "markdown",
   "metadata": {},
   "source": [
    "### Now the data has been stored in table Counts. To see the data, run the below command"
   ]
  },
  {
   "cell_type": "code",
   "execution_count": 11,
   "metadata": {},
   "outputs": [
    {
     "name": "stdout",
     "output_type": "stream",
     "text": [
      "Table COUNTS\n",
      "------------\n",
      "Org | Count\n",
      "------------\n",
      "uct.ac.za 6\n",
      "media.berkeley.edu 4\n",
      "umich.edu 7\n",
      "iupui.edu 8\n",
      "caret.cam.ac.uk 1\n",
      "gmail.com 1\n"
     ]
    }
   ],
   "source": [
    "# Retrieve and print the counts\n",
    "cur.execute('SELECT org, count FROM Counts')\n",
    "print('''Table COUNTS\n",
    "------------\n",
    "Org | Count\n",
    "------------''')\n",
    "for org, count in cur.fetchall():\n",
    "    print(f\"{org} {count}\")\n",
    "\n",
    "mysql.commit()\n",
    "mysql.close()"
   ]
  },
  {
   "cell_type": "markdown",
   "metadata": {},
   "source": [
    "# Answer"
   ]
  },
  {
   "cell_type": "code",
   "execution_count": null,
   "metadata": {},
   "outputs": [],
   "source": []
  },
  {
   "cell_type": "code",
   "execution_count": null,
   "metadata": {},
   "outputs": [],
   "source": []
  },
  {
   "cell_type": "code",
   "execution_count": null,
   "metadata": {},
   "outputs": [],
   "source": []
  }
 ],
 "metadata": {
  "kernelspec": {
   "display_name": "Python 3",
   "language": "python",
   "name": "python3"
  },
  "language_info": {
   "codemirror_mode": {
    "name": "ipython",
    "version": 3
   },
   "file_extension": ".py",
   "mimetype": "text/x-python",
   "name": "python",
   "nbconvert_exporter": "python",
   "pygments_lexer": "ipython3",
   "version": "3.7.6"
  }
 },
 "nbformat": 4,
 "nbformat_minor": 4
}
